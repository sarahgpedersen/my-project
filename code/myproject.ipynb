{
 "cells": [
  {
   "cell_type": "code",
   "execution_count": 2,
   "id": "412c7785",
   "metadata": {},
   "outputs": [
    {
     "name": "stdout",
     "output_type": "stream",
     "text": [
      "   med_thickness  length\n",
      "0            0.4     4.8\n",
      "1            1.2    13.7\n",
      "2            2.3    24.5\n",
      "3            3.9    26.6\n",
      "4            4.8    40.0\n",
      "5            7.7    54.6\n",
      "6            7.9    44.8\n",
      "7            8.9    57.8\n"
     ]
    }
   ],
   "source": [
    "import pandas as pd\n",
    "data=pd.read_csv('../data/mydata.csv')\n",
    "print(data)\n",
    "# dataene viser henholdsvis længden og den \n",
    "# gennemsnitlige tykkelse af lårbensknoglen"
   ]
  },
  {
   "cell_type": "code",
   "execution_count": 4,
   "id": "3d3eb58e",
   "metadata": {},
   "outputs": [],
   "source": [
    "# Opgaven: i en model kan sammenhængen beskrives ved\n",
    "# en funktion af typen: y=b*x^a, hvor y betegner længden\n",
    "# af lårbensknoglen og x betegner tykkelsen\n",
    "#benyt tabellens data til at bestemme a og b\n",
    "x1=data['med_thickness'][2]"
   ]
  },
  {
   "cell_type": "code",
   "execution_count": 5,
   "id": "934a872b",
   "metadata": {},
   "outputs": [],
   "source": [
    "x2=data['med_thickness'][6]"
   ]
  },
  {
   "cell_type": "code",
   "execution_count": 6,
   "id": "539eb6b8",
   "metadata": {},
   "outputs": [],
   "source": [
    "y1=data['length'][2]"
   ]
  },
  {
   "cell_type": "code",
   "execution_count": 7,
   "id": "770d46a4",
   "metadata": {},
   "outputs": [],
   "source": [
    "y2=data['length'][6]"
   ]
  },
  {
   "cell_type": "code",
   "execution_count": 13,
   "id": "596ecf5e",
   "metadata": {},
   "outputs": [
    {
     "name": "stdout",
     "output_type": "stream",
     "text": [
      "0.8329091229351039\n"
     ]
    }
   ],
   "source": [
    "import math\n",
    "log_x1=math.log(x1)\n",
    "print(log_x1)"
   ]
  },
  {
   "cell_type": "code",
   "execution_count": 16,
   "id": "1dcdf33c",
   "metadata": {},
   "outputs": [],
   "source": [
    "log_x2=math.log(x2)\n",
    "log_y1=math.log(y1)\n",
    "log_y2=math.log(y2)"
   ]
  },
  {
   "cell_type": "code",
   "execution_count": 20,
   "id": "fcd86603",
   "metadata": {},
   "outputs": [
    {
     "name": "stdout",
     "output_type": "stream",
     "text": [
      "0.4891067249200772\n"
     ]
    }
   ],
   "source": [
    "a=(log_y2-log_y1)/(log_x2-log_x1)\n",
    "print(a)"
   ]
  },
  {
   "cell_type": "code",
   "execution_count": 22,
   "id": "ee8c9abb",
   "metadata": {},
   "outputs": [
    {
     "name": "stdout",
     "output_type": "stream",
     "text": [
      "16.302063000889184\n"
     ]
    }
   ],
   "source": [
    "b=y1/x1**a\n",
    "print(b)"
   ]
  },
  {
   "cell_type": "code",
   "execution_count": 26,
   "id": "3966c697",
   "metadata": {},
   "outputs": [],
   "source": [
    "# Her løses opgaven: \"benyt modellen til at bestemme, \n",
    "# hvor mange procent længden af lårbensknoglen øges \n",
    "# med, når den gennemsnitlige tykkelse af \n",
    "# lårbensknoglen øges med 10%\" \n",
    "# fremskrivningsfaktoren betegnes som:\n",
    "rx=0.1"
   ]
  },
  {
   "cell_type": "code",
   "execution_count": 24,
   "id": "57836df2",
   "metadata": {},
   "outputs": [
    {
     "data": {
      "text/plain": [
       "0.047720497946919904"
      ]
     },
     "execution_count": 24,
     "metadata": {},
     "output_type": "execute_result"
    }
   ],
   "source": [
    "((1+rx)**a)-1"
   ]
  },
  {
   "cell_type": "code",
   "execution_count": 25,
   "id": "899fcf93",
   "metadata": {},
   "outputs": [],
   "source": [
    "import matplotlib.pyplot as plt"
   ]
  },
  {
   "cell_type": "code",
   "execution_count": 35,
   "id": "1df435d7",
   "metadata": {},
   "outputs": [
    {
     "data": {
      "image/png": "[encoded data removed]",
      "text/plain": [
       "<Figure size 432x288 with 1 Axes>"
      ]
     },
     "metadata": {
      "needs_background": "light"
     },
     "output_type": "display_data"
    }
   ],
   "source": [
    "plt.scatter(data['med_thickness'], data['length'])\n",
    "plt.xlabel('medium thickness of bone')\n",
    "plt.ylabel('length of bone')\n",
    "plt.savefig(\"../results/plot.png\")"
   ]
  },
  {
   "cell_type": "code",
   "execution_count": null,
   "id": "c6c517fc",
   "metadata": {},
   "outputs": [],
   "source": []
  },
  {
   "cell_type": "code",
   "execution_count": null,
   "id": "e532b6d3",
   "metadata": {},
   "outputs": [],
   "source": []
  }
 ],
 "metadata": {
  "kernelspec": {
   "display_name": "Python 3",
   "language": "python",
   "name": "python3"
  },
  "language_info": {
   "codemirror_mode": {
    "name": "ipython",
    "version": 3
   },
   "file_extension": ".py",
   "mimetype": "text/x-python",
   "name": "python",
   "nbconvert_exporter": "python",
   "pygments_lexer": "ipython3",
   "version": "3.8.8"
  }
 },
 "nbformat": 4,
 "nbformat_minor": 5
}
